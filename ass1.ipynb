{
 "cells": [
  {
   "cell_type": "code",
   "execution_count": 9,
   "id": "7de05827-0238-4491-9dd4-9cb32784e3a7",
   "metadata": {},
   "outputs": [
    {
     "name": "stderr",
     "output_type": "stream",
     "text": [
      "[*********************100%***********************]  2 of 2 completed"
     ]
    },
    {
     "name": "stdout",
     "output_type": "stream",
     "text": [
      "Alpha (TATAMOTORS): 0.0024941817962396504\n",
      "Beta (TATAMOTORS): 1.0940499885320352\n",
      "Sharpe Ratio (NIFTY50): 1.9684722740023046\n",
      "Sharpe Ratio (TATAMOTORS): 3.5659803275239415\n",
      "Max Drawdown (NIFTY50): -0.06611908149387102\n",
      "Max Drawdown (TATAMOTORS): -0.09511209857308509\n"
     ]
    },
    {
     "name": "stderr",
     "output_type": "stream",
     "text": [
      "\n"
     ]
    }
   ],
   "source": [
    "import yfinance as yf\n",
    "import numpy as np\n",
    "import pandas as pd\n",
    "from datetime import datetime\n",
    "import matplotlib.pyplot as plt\n",
    "\n",
    "# Constants\n",
    "START_DATE = \"2023-04-01\"\n",
    "END_DATE = \"2024-04-01\"\n",
    "RISK_FREE_RATE = 0.07015  # Annual risk-free rate\n",
    "TRADING_DAYS = 252  # Approximate trading days in a year\n",
    "\n",
    "# Download data\n",
    "def download_data(tickers, start, end):\n",
    "    data = yf.download(tickers, start=start, end=end)\n",
    "    return data['Adj Close']\n",
    "\n",
    "# Calculate daily returns\n",
    "def calculate_returns(data):\n",
    "    return data.pct_change().dropna()\n",
    "\n",
    "# Calculate alpha and beta\n",
    "def calculate_alpha_beta(stock_returns, market_returns):\n",
    "    cov_matrix = np.cov(stock_returns, market_returns)\n",
    "    beta = cov_matrix[0, 1] / cov_matrix[1, 1]\n",
    "    alpha = np.mean(stock_returns) - beta * np.mean(market_returns)\n",
    "    return alpha, beta\n",
    "\n",
    "# Calculate Sharpe ratio\n",
    "def calculate_sharpe_ratio(returns, risk_free_rate):\n",
    "    excess_returns = returns - (risk_free_rate / TRADING_DAYS)\n",
    "    sharpe_ratio = np.mean(excess_returns) / np.std(excess_returns)\n",
    "    annualized_sharpe = sharpe_ratio * np.sqrt(TRADING_DAYS)\n",
    "    return annualized_sharpe\n",
    "\n",
    "# Calculate max drawdown (O(n) solution)\n",
    "def calculate_max_drawdown(returns):\n",
    "    cumulative_returns = (1 + returns).cumprod()\n",
    "    peak = cumulative_returns.cummax()\n",
    "    drawdown = (cumulative_returns - peak) / peak\n",
    "    max_drawdown = drawdown.min()\n",
    "    return max_drawdown\n",
    "\n",
    "# Main script\n",
    "def main():\n",
    "    # Download data\n",
    "    tickers = [\"^NSEI\", \"TATAMOTORS.NS\"]\n",
    "    data = download_data(tickers, START_DATE, END_DATE)\n",
    "\n",
    "    # Split data into NIFTY50 and TATA MOTORS\n",
    "    nifty50 = data[\"^NSEI\"]\n",
    "    tatamotors = data[\"TATAMOTORS.NS\"]\n",
    "\n",
    "    # Calculate daily returns\n",
    "    nifty50_returns = calculate_returns(nifty50)\n",
    "    tatamotors_returns = calculate_returns(tatamotors)\n",
    "\n",
    "    # Alpha and Beta\n",
    "    alpha, beta = calculate_alpha_beta(tatamotors_returns, nifty50_returns)\n",
    "\n",
    "    # Sharpe Ratios\n",
    "    nifty50_sharpe = calculate_sharpe_ratio(nifty50_returns, RISK_FREE_RATE)\n",
    "    tatamotors_sharpe = calculate_sharpe_ratio(tatamotors_returns, RISK_FREE_RATE)\n",
    "\n",
    "    # Max Drawdowns\n",
    "    nifty50_drawdown = calculate_max_drawdown(nifty50_returns)\n",
    "    tatamotors_drawdown = calculate_max_drawdown(tatamotors_returns)\n",
    "\n",
    "    # Print results\n",
    "    print(\"Alpha (TATAMOTORS):\", alpha)\n",
    "    print(\"Beta (TATAMOTORS):\", beta)\n",
    "    print(\"Sharpe Ratio (NIFTY50):\", nifty50_sharpe)\n",
    "    print(\"Sharpe Ratio (TATAMOTORS):\", tatamotors_sharpe)\n",
    "    print(\"Max Drawdown (NIFTY50):\", nifty50_drawdown)\n",
    "    print(\"Max Drawdown (TATAMOTORS):\", tatamotors_drawdown)\n",
    "\n",
    "if __name__ == \"__main__\":\n",
    "    main()\n"
   ]
  },
  {
   "cell_type": "code",
   "execution_count": null,
   "id": "ad58add6-98af-49ea-83b7-09ca6c938ed0",
   "metadata": {},
   "outputs": [],
   "source": []
  }
 ],
 "metadata": {
  "kernelspec": {
   "display_name": "Python [conda env:base] *",
   "language": "python",
   "name": "conda-base-py"
  },
  "language_info": {
   "codemirror_mode": {
    "name": "ipython",
    "version": 3
   },
   "file_extension": ".py",
   "mimetype": "text/x-python",
   "name": "python",
   "nbconvert_exporter": "python",
   "pygments_lexer": "ipython3",
   "version": "3.12.7"
  }
 },
 "nbformat": 4,
 "nbformat_minor": 5
}
